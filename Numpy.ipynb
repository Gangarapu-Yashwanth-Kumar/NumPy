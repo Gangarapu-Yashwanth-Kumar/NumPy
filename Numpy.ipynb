{
 "cells": [
  {
   "cell_type": "markdown",
   "id": "03aab2a7-9d94-420a-acff-ce8464bbbea3",
   "metadata": {},
   "source": [
    "# Numpy Crash Course"
   ]
  },
  {
   "cell_type": "code",
   "execution_count": 1,
   "id": "52b71bca-6441-403f-8819-b9eea1c5e17d",
   "metadata": {},
   "outputs": [],
   "source": [
    "import numpy as np"
   ]
  },
  {
   "cell_type": "code",
   "execution_count": 3,
   "id": "6f2ab05e-17fe-4b42-a54b-b2d12d84101d",
   "metadata": {},
   "outputs": [
    {
     "data": {
      "text/plain": [
       "'1.26.4'"
      ]
     },
     "execution_count": 3,
     "metadata": {},
     "output_type": "execute_result"
    }
   ],
   "source": [
    "np.__version__"
   ]
  },
  {
   "cell_type": "code",
   "execution_count": 5,
   "id": "d98485ca-7706-41b7-b2fd-3604f3632ce5",
   "metadata": {},
   "outputs": [
    {
     "data": {
      "text/plain": [
       "'3.12.7 | packaged by Anaconda, Inc. | (main, Oct  4 2024, 13:17:27) [MSC v.1929 64 bit (AMD64)]'"
      ]
     },
     "execution_count": 5,
     "metadata": {},
     "output_type": "execute_result"
    }
   ],
   "source": [
    "import sys\n",
    "sys.version"
   ]
  },
  {
   "cell_type": "markdown",
   "id": "29d8c653-375c-471c-a06f-ed302a915ad2",
   "metadata": {},
   "source": [
    "# Creating Arrays"
   ]
  },
  {
   "cell_type": "code",
   "execution_count": 7,
   "id": "2c260546-44d4-427c-b50d-b4149444d811",
   "metadata": {},
   "outputs": [
    {
     "data": {
      "text/plain": [
       "[0, 1, 2, 3, 4, 5]"
      ]
     },
     "execution_count": 7,
     "metadata": {},
     "output_type": "execute_result"
    }
   ],
   "source": [
    "my_list=[0,1,2,3,4,5]\n",
    "my_list"
   ]
  },
  {
   "cell_type": "code",
   "execution_count": 9,
   "id": "ee899091-3331-4154-b3f3-9077940a435c",
   "metadata": {},
   "outputs": [
    {
     "data": {
      "text/plain": [
       "list"
      ]
     },
     "execution_count": 9,
     "metadata": {},
     "output_type": "execute_result"
    }
   ],
   "source": [
    "type(my_list)"
   ]
  },
  {
   "cell_type": "code",
   "execution_count": 11,
   "id": "2ffb36c5-0ea3-43ad-8f01-733cb8bd81e8",
   "metadata": {},
   "outputs": [],
   "source": [
    "# We are converting list to array"
   ]
  },
  {
   "cell_type": "code",
   "execution_count": 15,
   "id": "797fc428-87b1-469e-a64f-05bb0d87042d",
   "metadata": {},
   "outputs": [],
   "source": [
    "arr=np.array(my_list)"
   ]
  },
  {
   "cell_type": "code",
   "execution_count": 17,
   "id": "3bead611-16f2-45ec-aa84-8c435e8f2322",
   "metadata": {},
   "outputs": [
    {
     "data": {
      "text/plain": [
       "array([0, 1, 2, 3, 4, 5])"
      ]
     },
     "execution_count": 17,
     "metadata": {},
     "output_type": "execute_result"
    }
   ],
   "source": [
    "arr"
   ]
  },
  {
   "cell_type": "code",
   "execution_count": 19,
   "id": "1c60f182-9d32-4cad-85f4-e44fbb08e409",
   "metadata": {},
   "outputs": [
    {
     "data": {
      "text/plain": [
       "numpy.ndarray"
      ]
     },
     "execution_count": 19,
     "metadata": {},
     "output_type": "execute_result"
    }
   ],
   "source": [
    "type(arr)"
   ]
  },
  {
   "cell_type": "code",
   "execution_count": 21,
   "id": "5a35707c-80e9-46da-bd32-74c507e0ae8e",
   "metadata": {},
   "outputs": [
    {
     "data": {
      "text/plain": [
       "list"
      ]
     },
     "execution_count": 21,
     "metadata": {},
     "output_type": "execute_result"
    }
   ],
   "source": [
    "type(my_list)"
   ]
  },
  {
   "cell_type": "markdown",
   "id": "1369b367-2825-401e-893b-1ce11d4cef89",
   "metadata": {},
   "source": [
    "# 1.arange() = It gives the values upto the given range."
   ]
  },
  {
   "cell_type": "code",
   "execution_count": 25,
   "id": "f9166472-ee62-4ac8-9f8f-13937dce4b03",
   "metadata": {},
   "outputs": [
    {
     "data": {
      "text/plain": [
       "array([ 0,  1,  2,  3,  4,  5,  6,  7,  8,  9, 10, 11, 12, 13, 14])"
      ]
     },
     "execution_count": 25,
     "metadata": {},
     "output_type": "execute_result"
    }
   ],
   "source": [
    "np.arange(15)"
   ]
  },
  {
   "cell_type": "code",
   "execution_count": 27,
   "id": "11e12cef-a130-4f5b-baab-9b48fd13da1b",
   "metadata": {},
   "outputs": [
    {
     "data": {
      "text/plain": [
       "array([0, 1, 2, 3, 4, 5, 6, 7, 8, 9])"
      ]
     },
     "execution_count": 27,
     "metadata": {},
     "output_type": "execute_result"
    }
   ],
   "source": [
    "np.arange(10)"
   ]
  },
  {
   "cell_type": "code",
   "execution_count": 29,
   "id": "d5be44c9-588c-4bf0-8bdb-a396b2ec9e6e",
   "metadata": {},
   "outputs": [
    {
     "data": {
      "text/plain": [
       "array([0., 1., 2.])"
      ]
     },
     "execution_count": 29,
     "metadata": {},
     "output_type": "execute_result"
    }
   ],
   "source": [
    "np.arange(3.0)"
   ]
  },
  {
   "cell_type": "code",
   "execution_count": 31,
   "id": "e0dad154-2bd9-44e0-abef-74de21e477c6",
   "metadata": {},
   "outputs": [
    {
     "data": {
      "text/plain": [
       "array([0, 1, 2, 3, 4])"
      ]
     },
     "execution_count": 31,
     "metadata": {},
     "output_type": "execute_result"
    }
   ],
   "source": [
    "np.arange(0,5)"
   ]
  },
  {
   "cell_type": "code",
   "execution_count": 33,
   "id": "b4b18f69-cea7-4b72-bfb4-86312bf3188a",
   "metadata": {},
   "outputs": [
    {
     "data": {
      "text/plain": [
       "array([10, 11, 12, 13, 14, 15, 16, 17, 18, 19])"
      ]
     },
     "execution_count": 33,
     "metadata": {},
     "output_type": "execute_result"
    }
   ],
   "source": [
    "np.arange(10,20)"
   ]
  },
  {
   "cell_type": "code",
   "execution_count": 35,
   "id": "e895f8e1-8c49-47bc-928b-0b433be8a893",
   "metadata": {},
   "outputs": [
    {
     "data": {
      "text/plain": [
       "array([], dtype=int32)"
      ]
     },
     "execution_count": 35,
     "metadata": {},
     "output_type": "execute_result"
    }
   ],
   "source": [
    "np.arange(20,10)"
   ]
  },
  {
   "cell_type": "code",
   "execution_count": 37,
   "id": "f96d504f-ad85-4f93-b8d2-4b9232ef3a6d",
   "metadata": {},
   "outputs": [
    {
     "data": {
      "text/plain": [
       "array([-20, -19, -18, -17, -16, -15, -14, -13, -12, -11, -10,  -9,  -8,\n",
       "        -7,  -6,  -5,  -4,  -3,  -2,  -1,   0,   1,   2,   3,   4,   5,\n",
       "         6,   7,   8,   9])"
      ]
     },
     "execution_count": 37,
     "metadata": {},
     "output_type": "execute_result"
    }
   ],
   "source": [
    "np.arange(-20,10)"
   ]
  },
  {
   "cell_type": "code",
   "execution_count": 39,
   "id": "a45fff2e-6f41-404c-bba7-a051b88f267f",
   "metadata": {},
   "outputs": [
    {
     "data": {
      "text/plain": [
       "array([-16, -15, -14, -13, -12, -11, -10,  -9,  -8,  -7,  -6,  -5,  -4,\n",
       "        -3,  -2,  -1,   0,   1,   2,   3,   4,   5,   6,   7,   8,   9])"
      ]
     },
     "execution_count": 39,
     "metadata": {},
     "output_type": "execute_result"
    }
   ],
   "source": [
    "np.arange(-16,10)"
   ]
  },
  {
   "cell_type": "code",
   "execution_count": 89,
   "id": "2f937cc6-20dd-4ea5-b83a-fb22b577f3eb",
   "metadata": {},
   "outputs": [
    {
     "ename": "TypeError",
     "evalue": "arange() requires stop to be specified.",
     "output_type": "error",
     "traceback": [
      "\u001b[1;31m---------------------------------------------------------------------------\u001b[0m",
      "\u001b[1;31mTypeError\u001b[0m                                 Traceback (most recent call last)",
      "Cell \u001b[1;32mIn[89], line 1\u001b[0m\n\u001b[1;32m----> 1\u001b[0m np\u001b[38;5;241m.\u001b[39marange()\n",
      "\u001b[1;31mTypeError\u001b[0m: arange() requires stop to be specified."
     ]
    }
   ],
   "source": [
    "np.arange()  # Atleast stop arg should be given."
   ]
  },
  {
   "cell_type": "code",
   "execution_count": 41,
   "id": "5306e0ef-bb6c-405d-b26e-b425969baea4",
   "metadata": {},
   "outputs": [
    {
     "data": {
      "text/plain": [
       "array([10, 15, 20, 25])"
      ]
     },
     "execution_count": 41,
     "metadata": {},
     "output_type": "execute_result"
    }
   ],
   "source": [
    "np.arange(10,30,5)"
   ]
  },
  {
   "cell_type": "code",
   "execution_count": 43,
   "id": "87ebe19a-4c8c-4c37-8b2f-79709b378ce4",
   "metadata": {},
   "outputs": [
    {
     "data": {
      "text/plain": [
       "array([0, 3, 6, 9])"
      ]
     },
     "execution_count": 43,
     "metadata": {},
     "output_type": "execute_result"
    }
   ],
   "source": [
    "np.arange(0,10,3)"
   ]
  },
  {
   "cell_type": "code",
   "execution_count": 91,
   "id": "728cd6d4-1d86-4958-bc9a-b5cc67248fcc",
   "metadata": {},
   "outputs": [
    {
     "ename": "TypeError",
     "evalue": "Cannot interpret '8' as a data type",
     "output_type": "error",
     "traceback": [
      "\u001b[1;31m---------------------------------------------------------------------------\u001b[0m",
      "\u001b[1;31mTypeError\u001b[0m                                 Traceback (most recent call last)",
      "Cell \u001b[1;32mIn[91], line 1\u001b[0m\n\u001b[1;32m----> 1\u001b[0m np\u001b[38;5;241m.\u001b[39marange(\u001b[38;5;241m10\u001b[39m,\u001b[38;5;241m30\u001b[39m,\u001b[38;5;241m5\u001b[39m,\u001b[38;5;241m8\u001b[39m)\n",
      "\u001b[1;31mTypeError\u001b[0m: Cannot interpret '8' as a data type"
     ]
    }
   ],
   "source": [
    "np.arange(10,30,5,8)    # It wont take 4 args"
   ]
  },
  {
   "cell_type": "markdown",
   "id": "912b06f5-bbdb-4485-a583-ff292ccafd0e",
   "metadata": {},
   "source": [
    "# 2. Zeros() = Always printing zeros according to the attributes given."
   ]
  },
  {
   "cell_type": "code",
   "execution_count": 93,
   "id": "b5ce7cbc-400a-4f82-a57c-32f675bc6776",
   "metadata": {},
   "outputs": [
    {
     "data": {
      "text/plain": [
       "array([0., 0., 0.])"
      ]
     },
     "execution_count": 93,
     "metadata": {},
     "output_type": "execute_result"
    }
   ],
   "source": [
    "np.zeros(3)   # parameter tuning=system by default gives the parameter.dont write 'zero'. By default it gives float\n",
    "              # 1D array"
   ]
  },
  {
   "cell_type": "code",
   "execution_count": 95,
   "id": "286d1850-c76e-4a3e-86f0-834859bf79f9",
   "metadata": {},
   "outputs": [
    {
     "data": {
      "text/plain": [
       "array([0, 0, 0, 0, 0])"
      ]
     },
     "execution_count": 95,
     "metadata": {},
     "output_type": "execute_result"
    }
   ],
   "source": [
    "np.zeros(5,dtype=int)   # Hyperparameter tuning = user wanted to change system parameter. Here I have changed float to int."
   ]
  },
  {
   "cell_type": "code",
   "execution_count": 97,
   "id": "b3a566f6-ee32-42ef-b5d3-684266e77556",
   "metadata": {},
   "outputs": [
    {
     "data": {
      "text/plain": [
       "array([[0, 0],\n",
       "       [0, 0]])"
      ]
     },
     "execution_count": 97,
     "metadata": {},
     "output_type": "execute_result"
    }
   ],
   "source": [
    "np.zeros((2,2),dtype=int)    # 2D array"
   ]
  },
  {
   "cell_type": "code",
   "execution_count": 99,
   "id": "06f7cfe2-728f-4e65-a3c0-f4ee24715468",
   "metadata": {},
   "outputs": [
    {
     "ename": "TypeError",
     "evalue": "Cannot interpret '10' as a data type",
     "output_type": "error",
     "traceback": [
      "\u001b[1;31m---------------------------------------------------------------------------\u001b[0m",
      "\u001b[1;31mTypeError\u001b[0m                                 Traceback (most recent call last)",
      "Cell \u001b[1;32mIn[99], line 1\u001b[0m\n\u001b[1;32m----> 1\u001b[0m np\u001b[38;5;241m.\u001b[39mzeros(\u001b[38;5;241m2\u001b[39m,\u001b[38;5;241m10\u001b[39m)\n",
      "\u001b[1;31mTypeError\u001b[0m: Cannot interpret '10' as a data type"
     ]
    }
   ],
   "source": [
    "np.zeros(2,10)  # give 2 brackets otherwise it gives you error."
   ]
  },
  {
   "cell_type": "code",
   "execution_count": 51,
   "id": "3a9266c7-2c90-4b91-9ac5-bec29809e488",
   "metadata": {},
   "outputs": [
    {
     "data": {
      "text/plain": [
       "array([[0., 0., 0., 0., 0., 0., 0., 0., 0., 0.],\n",
       "       [0., 0., 0., 0., 0., 0., 0., 0., 0., 0.]])"
      ]
     },
     "execution_count": 51,
     "metadata": {},
     "output_type": "execute_result"
    }
   ],
   "source": [
    "np.zeros((2,10))  "
   ]
  },
  {
   "cell_type": "code",
   "execution_count": 103,
   "id": "02d6cf62-1f4e-4b1e-b2ae-f682d2aaf579",
   "metadata": {},
   "outputs": [
    {
     "data": {
      "text/plain": [
       "array([[0., 0., 0., 0., 0., 0., 0., 0., 0., 0.],\n",
       "       [0., 0., 0., 0., 0., 0., 0., 0., 0., 0.],\n",
       "       [0., 0., 0., 0., 0., 0., 0., 0., 0., 0.],\n",
       "       [0., 0., 0., 0., 0., 0., 0., 0., 0., 0.],\n",
       "       [0., 0., 0., 0., 0., 0., 0., 0., 0., 0.]])"
      ]
     },
     "execution_count": 103,
     "metadata": {},
     "output_type": "execute_result"
    }
   ],
   "source": [
    "np.zeros((5,10))  # float. rows=5, columns=10"
   ]
  },
  {
   "cell_type": "code",
   "execution_count": 101,
   "id": "f950469b-aa12-4f95-9e61-6654489fa4dd",
   "metadata": {},
   "outputs": [
    {
     "data": {
      "text/plain": [
       "array([[0, 0, 0, 0, 0, 0, 0, 0, 0, 0],\n",
       "       [0, 0, 0, 0, 0, 0, 0, 0, 0, 0],\n",
       "       [0, 0, 0, 0, 0, 0, 0, 0, 0, 0],\n",
       "       [0, 0, 0, 0, 0, 0, 0, 0, 0, 0],\n",
       "       [0, 0, 0, 0, 0, 0, 0, 0, 0, 0]])"
      ]
     },
     "execution_count": 101,
     "metadata": {},
     "output_type": "execute_result"
    }
   ],
   "source": [
    "np.zeros((5,10),dtype=int)   # int. rows=5, columns=10"
   ]
  },
  {
   "cell_type": "code",
   "execution_count": 319,
   "id": "92ba7e26-c9cc-4699-847a-cab0b1a9335d",
   "metadata": {},
   "outputs": [
    {
     "name": "stdout",
     "output_type": "stream",
     "text": [
      "[[0. 0. 0. 0. 0. 0. 0. 0.]\n",
      " [0. 0. 0. 0. 0. 0. 0. 0.]\n",
      " [0. 0. 0. 0. 0. 0. 0. 0.]\n",
      " [0. 0. 0. 0. 0. 0. 0. 0.]\n",
      " [0. 0. 0. 0. 0. 0. 0. 0.]\n",
      " [0. 0. 0. 0. 0. 0. 0. 0.]]\n"
     ]
    }
   ],
   "source": [
    "n1=(6,8) # we can write like this as well\n",
    "print(np.zeros(n1)) # Parameter Tuning"
   ]
  },
  {
   "cell_type": "code",
   "execution_count": 321,
   "id": "3c72b7aa-216a-4829-96b0-1204db7bf8ea",
   "metadata": {},
   "outputs": [
    {
     "name": "stdout",
     "output_type": "stream",
     "text": [
      "[[0 0 0 0 0 0 0 0]\n",
      " [0 0 0 0 0 0 0 0]\n",
      " [0 0 0 0 0 0 0 0]\n",
      " [0 0 0 0 0 0 0 0]\n",
      " [0 0 0 0 0 0 0 0]\n",
      " [0 0 0 0 0 0 0 0]]\n"
     ]
    }
   ],
   "source": [
    "n1=(6,8) # Hyperparamter Tuning\n",
    "print(np.zeros(n1,dtype=int))"
   ]
  },
  {
   "cell_type": "markdown",
   "id": "52e7f49b-b87c-4c13-b7c3-171c2c07ed43",
   "metadata": {},
   "source": [
    "# 3. Ones() = Always printing ones according to the attributes given."
   ]
  },
  {
   "cell_type": "code",
   "execution_count": 324,
   "id": "c435669e-bcb7-4f5f-8b59-11b3f43b28d0",
   "metadata": {},
   "outputs": [],
   "source": [
    "import numpy as np"
   ]
  },
  {
   "cell_type": "code",
   "execution_count": 326,
   "id": "a5dbc8f4-8c5c-4e2b-9309-60cf985ef405",
   "metadata": {},
   "outputs": [
    {
     "data": {
      "text/plain": [
       "array([1., 1., 1., 1.])"
      ]
     },
     "execution_count": 326,
     "metadata": {},
     "output_type": "execute_result"
    }
   ],
   "source": [
    "np.ones(4)"
   ]
  },
  {
   "cell_type": "code",
   "execution_count": 59,
   "id": "b62d2d94-95f4-4599-a1d4-908c8471dc85",
   "metadata": {},
   "outputs": [
    {
     "data": {
      "text/plain": [
       "array([1, 1, 1, 1, 1])"
      ]
     },
     "execution_count": 59,
     "metadata": {},
     "output_type": "execute_result"
    }
   ],
   "source": [
    "np.ones(5,dtype=int)"
   ]
  },
  {
   "cell_type": "code",
   "execution_count": 61,
   "id": "2693486c-9ee4-414e-9876-8660f19a7414",
   "metadata": {},
   "outputs": [
    {
     "data": {
      "text/plain": [
       "array([[1, 1],\n",
       "       [1, 1]])"
      ]
     },
     "execution_count": 61,
     "metadata": {},
     "output_type": "execute_result"
    }
   ],
   "source": [
    "np.ones((2,2),dtype=int)"
   ]
  },
  {
   "cell_type": "code",
   "execution_count": 63,
   "id": "2b292ee2-1ed0-463a-a10a-fe13ade117b3",
   "metadata": {},
   "outputs": [
    {
     "data": {
      "text/plain": [
       "array([[1, 1, 1, 1],\n",
       "       [1, 1, 1, 1],\n",
       "       [1, 1, 1, 1],\n",
       "       [1, 1, 1, 1],\n",
       "       [1, 1, 1, 1]])"
      ]
     },
     "execution_count": 63,
     "metadata": {},
     "output_type": "execute_result"
    }
   ],
   "source": [
    "np.ones((5,4),dtype=int)"
   ]
  },
  {
   "cell_type": "code",
   "execution_count": 105,
   "id": "fc75437d-2978-4f81-b856-4819e6ac2c2d",
   "metadata": {},
   "outputs": [
    {
     "ename": "AttributeError",
     "evalue": "module 'numpy' has no attribute 'twos'",
     "output_type": "error",
     "traceback": [
      "\u001b[1;31m---------------------------------------------------------------------------\u001b[0m",
      "\u001b[1;31mAttributeError\u001b[0m                            Traceback (most recent call last)",
      "Cell \u001b[1;32mIn[105], line 1\u001b[0m\n\u001b[1;32m----> 1\u001b[0m np\u001b[38;5;241m.\u001b[39mtwos((\u001b[38;5;241m2\u001b[39m,\u001b[38;5;241m3\u001b[39m))\n",
      "File \u001b[1;32m~\\anaconda3\\Lib\\site-packages\\numpy\\__init__.py:333\u001b[0m, in \u001b[0;36m__getattr__\u001b[1;34m(attr)\u001b[0m\n\u001b[0;32m    330\u001b[0m     \u001b[38;5;124m\"\u001b[39m\u001b[38;5;124mRemoved in NumPy 1.25.0\u001b[39m\u001b[38;5;124m\"\u001b[39m\n\u001b[0;32m    331\u001b[0m     \u001b[38;5;28;01mraise\u001b[39;00m \u001b[38;5;167;01mRuntimeError\u001b[39;00m(\u001b[38;5;124m\"\u001b[39m\u001b[38;5;124mTester was removed in NumPy 1.25.\u001b[39m\u001b[38;5;124m\"\u001b[39m)\n\u001b[1;32m--> 333\u001b[0m \u001b[38;5;28;01mraise\u001b[39;00m \u001b[38;5;167;01mAttributeError\u001b[39;00m(\u001b[38;5;124m\"\u001b[39m\u001b[38;5;124mmodule \u001b[39m\u001b[38;5;132;01m{!r}\u001b[39;00m\u001b[38;5;124m has no attribute \u001b[39m\u001b[38;5;124m\"\u001b[39m\n\u001b[0;32m    334\u001b[0m                      \u001b[38;5;124m\"\u001b[39m\u001b[38;5;132;01m{!r}\u001b[39;00m\u001b[38;5;124m\"\u001b[39m\u001b[38;5;241m.\u001b[39mformat(\u001b[38;5;18m__name__\u001b[39m, attr))\n",
      "\u001b[1;31mAttributeError\u001b[0m: module 'numpy' has no attribute 'twos'"
     ]
    }
   ],
   "source": [
    "np.twos((2,3)) # twos is not a function. And its not present in in built functions."
   ]
  },
  {
   "cell_type": "code",
   "execution_count": 107,
   "id": "e7ee0a7f-bec1-426d-8f6a-8ebb484b6ffa",
   "metadata": {},
   "outputs": [
    {
     "ename": "AttributeError",
     "evalue": "module 'numpy' has no attribute 'three'",
     "output_type": "error",
     "traceback": [
      "\u001b[1;31m---------------------------------------------------------------------------\u001b[0m",
      "\u001b[1;31mAttributeError\u001b[0m                            Traceback (most recent call last)",
      "Cell \u001b[1;32mIn[107], line 1\u001b[0m\n\u001b[1;32m----> 1\u001b[0m np\u001b[38;5;241m.\u001b[39mthree((\u001b[38;5;241m2\u001b[39m,\u001b[38;5;241m3\u001b[39m))\n",
      "File \u001b[1;32m~\\anaconda3\\Lib\\site-packages\\numpy\\__init__.py:333\u001b[0m, in \u001b[0;36m__getattr__\u001b[1;34m(attr)\u001b[0m\n\u001b[0;32m    330\u001b[0m     \u001b[38;5;124m\"\u001b[39m\u001b[38;5;124mRemoved in NumPy 1.25.0\u001b[39m\u001b[38;5;124m\"\u001b[39m\n\u001b[0;32m    331\u001b[0m     \u001b[38;5;28;01mraise\u001b[39;00m \u001b[38;5;167;01mRuntimeError\u001b[39;00m(\u001b[38;5;124m\"\u001b[39m\u001b[38;5;124mTester was removed in NumPy 1.25.\u001b[39m\u001b[38;5;124m\"\u001b[39m)\n\u001b[1;32m--> 333\u001b[0m \u001b[38;5;28;01mraise\u001b[39;00m \u001b[38;5;167;01mAttributeError\u001b[39;00m(\u001b[38;5;124m\"\u001b[39m\u001b[38;5;124mmodule \u001b[39m\u001b[38;5;132;01m{!r}\u001b[39;00m\u001b[38;5;124m has no attribute \u001b[39m\u001b[38;5;124m\"\u001b[39m\n\u001b[0;32m    334\u001b[0m                      \u001b[38;5;124m\"\u001b[39m\u001b[38;5;132;01m{!r}\u001b[39;00m\u001b[38;5;124m\"\u001b[39m\u001b[38;5;241m.\u001b[39mformat(\u001b[38;5;18m__name__\u001b[39m, attr))\n",
      "\u001b[1;31mAttributeError\u001b[0m: module 'numpy' has no attribute 'three'"
     ]
    }
   ],
   "source": [
    "np.three((2,3))"
   ]
  },
  {
   "cell_type": "markdown",
   "id": "9692b625-6f5e-4126-93fa-40a4737f7ac8",
   "metadata": {},
   "source": [
    "# 4. rand() = It gives random values. The output changes each time when you run the code."
   ]
  },
  {
   "cell_type": "code",
   "execution_count": 329,
   "id": "e593a303-89b5-4f7e-a40d-80792c691ab3",
   "metadata": {},
   "outputs": [
    {
     "ename": "NameError",
     "evalue": "name 'rand' is not defined",
     "output_type": "error",
     "traceback": [
      "\u001b[1;31m---------------------------------------------------------------------------\u001b[0m",
      "\u001b[1;31mNameError\u001b[0m                                 Traceback (most recent call last)",
      "Cell \u001b[1;32mIn[329], line 1\u001b[0m\n\u001b[1;32m----> 1\u001b[0m rand(\u001b[38;5;241m6\u001b[39m)\n",
      "\u001b[1;31mNameError\u001b[0m: name 'rand' is not defined"
     ]
    }
   ],
   "source": [
    "rand(6)"
   ]
  },
  {
   "cell_type": "code",
   "execution_count": 109,
   "id": "024d90c0-723d-414a-8eb3-d049670aa702",
   "metadata": {},
   "outputs": [
    {
     "ename": "NameError",
     "evalue": "name 'rand' is not defined",
     "output_type": "error",
     "traceback": [
      "\u001b[1;31m---------------------------------------------------------------------------\u001b[0m",
      "\u001b[1;31mNameError\u001b[0m                                 Traceback (most recent call last)",
      "Cell \u001b[1;32mIn[109], line 1\u001b[0m\n\u001b[1;32m----> 1\u001b[0m rand(\u001b[38;5;241m3\u001b[39m,\u001b[38;5;241m2\u001b[39m)\n",
      "\u001b[1;31mNameError\u001b[0m: name 'rand' is not defined"
     ]
    }
   ],
   "source": [
    "rand(3,2)"
   ]
  },
  {
   "cell_type": "code",
   "execution_count": 335,
   "id": "a3ba5b47-7170-4951-8936-b765b079e411",
   "metadata": {},
   "outputs": [
    {
     "data": {
      "text/plain": [
       "array([0.39168813, 0.25118175, 0.08115249])"
      ]
     },
     "execution_count": 335,
     "metadata": {},
     "output_type": "execute_result"
    }
   ],
   "source": [
    "random.rand(3)"
   ]
  },
  {
   "cell_type": "code",
   "execution_count": 113,
   "id": "b9aa553b-76c8-475c-b3af-4ddadb97dc3c",
   "metadata": {},
   "outputs": [
    {
     "data": {
      "text/plain": [
       "array([0.15328358, 0.08271044, 0.07885927, 0.53835873, 0.2541663 ])"
      ]
     },
     "execution_count": 113,
     "metadata": {},
     "output_type": "execute_result"
    }
   ],
   "source": [
    "np.random.rand(5) # np =package, random=module, rand=function"
   ]
  },
  {
   "cell_type": "code",
   "execution_count": 67,
   "id": "5aadb3b2-af27-445b-b537-40c01294bc3d",
   "metadata": {},
   "outputs": [
    {
     "data": {
      "text/plain": [
       "array([[0.9388349 , 0.11294223, 0.55519992, 0.72954773, 0.05372196],\n",
       "       [0.46727455, 0.58138684, 0.08581477, 0.77099566, 0.58470779],\n",
       "       [0.33915914, 0.05405676, 0.79265594, 0.53366745, 0.80660715]])"
      ]
     },
     "execution_count": 67,
     "metadata": {},
     "output_type": "execute_result"
    }
   ],
   "source": [
    "np.random.rand(3,5)   # Bydefault it gives float values. # output will change everytime."
   ]
  },
  {
   "cell_type": "code",
   "execution_count": 341,
   "id": "89dc6672-fcfa-4df0-9f7f-0e07e102f5e9",
   "metadata": {},
   "outputs": [
    {
     "data": {
      "text/plain": [
       "array([[0.36164304, 0.82107098],\n",
       "       [0.19016294, 0.73133759],\n",
       "       [0.303696  , 0.46821197]])"
      ]
     },
     "execution_count": 341,
     "metadata": {},
     "output_type": "execute_result"
    }
   ],
   "source": [
    "np.random.rand(3,2) # rows=3, columns=2"
   ]
  },
  {
   "cell_type": "code",
   "execution_count": 343,
   "id": "b7dc32bc-20da-4641-9c1a-9a7d88770a6c",
   "metadata": {},
   "outputs": [
    {
     "data": {
      "text/plain": [
       "array([[[0.69503996, 0.49140849],\n",
       "        [0.0636066 , 0.90450058],\n",
       "        [0.00746652, 0.31738199],\n",
       "        [0.56767878, 0.86470071],\n",
       "        [0.42361978, 0.58051721],\n",
       "        [0.08005577, 0.93428918],\n",
       "        [0.72055721, 0.09511549],\n",
       "        [0.55576225, 0.66980059],\n",
       "        [0.91391999, 0.51518165],\n",
       "        [0.35307574, 0.25566349]],\n",
       "\n",
       "       [[0.24109524, 0.4819998 ],\n",
       "        [0.56799254, 0.02354632],\n",
       "        [0.91303076, 0.42553106],\n",
       "        [0.03317022, 0.33197044],\n",
       "        [0.94586176, 0.17398453],\n",
       "        [0.39131119, 0.09922385],\n",
       "        [0.55043035, 0.16251393],\n",
       "        [0.69593308, 0.93031795],\n",
       "        [0.32138793, 0.86152906],\n",
       "        [0.40302811, 0.95026973]],\n",
       "\n",
       "       [[0.58496565, 0.26783582],\n",
       "        [0.63922697, 0.63398148],\n",
       "        [0.31627489, 0.73386384],\n",
       "        [0.5857367 , 0.8800803 ],\n",
       "        [0.74695973, 0.96759511],\n",
       "        [0.15672257, 0.82227711],\n",
       "        [0.68154754, 0.87957546],\n",
       "        [0.78798653, 0.33071193],\n",
       "        [0.36486923, 0.52483712],\n",
       "        [0.26166397, 0.82183361]],\n",
       "\n",
       "       [[0.2922108 , 0.61421827],\n",
       "        [0.06445423, 0.05927573],\n",
       "        [0.83498416, 0.90141667],\n",
       "        [0.22076749, 0.98949782],\n",
       "        [0.34727622, 0.91189129],\n",
       "        [0.02264055, 0.80481222],\n",
       "        [0.00445905, 0.64811447],\n",
       "        [0.87908935, 0.96030745],\n",
       "        [0.13070595, 0.83342026],\n",
       "        [0.80112301, 0.25283671]]])"
      ]
     },
     "execution_count": 343,
     "metadata": {},
     "output_type": "execute_result"
    }
   ],
   "source": [
    "np.random.rand(4,10,2) # arrays=4, rows=10, columns=2"
   ]
  },
  {
   "cell_type": "code",
   "execution_count": 347,
   "id": "5dfa2631-752b-4ec9-ab41-157bca80e158",
   "metadata": {},
   "outputs": [
    {
     "data": {
      "text/plain": [
       "array([11, 14])"
      ]
     },
     "execution_count": 347,
     "metadata": {},
     "output_type": "execute_result"
    }
   ],
   "source": [
    "np.random.randint(10,20,2) # randint(low, high, size): This function generates random integers from a half-open interval [low, high). \n",
    "                                   # This means that low is inclusive, and high is exclusive.\n",
    "                           # low: The lowest integer to be generated. In your example, low is 10.\n",
    "                           # high: The highest integer to be generated (exclusive). In your example, high is 20. \n",
    "                                   # This means that the generated numbers will be less than 20.\n",
    "                           # size: An integer or tuple of integers defining the shape of the output array. In your example, size is 2.\n",
    "                                  # This means that the function will return an array containing 2 random integers."
   ]
  },
  {
   "cell_type": "code",
   "execution_count": 69,
   "id": "aba4fc72-617c-4fcd-982d-962427bf330b",
   "metadata": {},
   "outputs": [
    {
     "data": {
      "text/plain": [
       "2"
      ]
     },
     "execution_count": 69,
     "metadata": {},
     "output_type": "execute_result"
    }
   ],
   "source": [
    "np.random.randint(2,4)"
   ]
  },
  {
   "cell_type": "code",
   "execution_count": 339,
   "id": "b6ae7f98-ed71-4b92-baff-a82aa4bcf0b6",
   "metadata": {},
   "outputs": [
    {
     "data": {
      "text/plain": [
       "array([13, 14, 15, 14, 12])"
      ]
     },
     "execution_count": 339,
     "metadata": {},
     "output_type": "execute_result"
    }
   ],
   "source": [
    "np.random.randint(10,20,5)  # 10=low, 20=high, 5=no.of values as output.\n",
    "                           # each time it gives 5 random values as output."
   ]
  },
  {
   "cell_type": "code",
   "execution_count": 337,
   "id": "04e81ba9-f90c-4638-ba09-e7960306fe1b",
   "metadata": {},
   "outputs": [
    {
     "data": {
      "text/plain": [
       "array([3, 3, 2, 4])"
      ]
     },
     "execution_count": 337,
     "metadata": {},
     "output_type": "execute_result"
    }
   ],
   "source": [
    "np.random.randint(2,6,4) # It only gives integer values. its a default function."
   ]
  },
  {
   "cell_type": "code",
   "execution_count": 349,
   "id": "74852e7e-f9a4-40dc-ac1d-c25bc13866e2",
   "metadata": {},
   "outputs": [
    {
     "data": {
      "text/plain": [
       "array([[11, 17, 11, 16, 11, 14, 18, 12, 16, 12],\n",
       "       [16, 19, 13, 11, 15, 12, 16, 17, 19, 18],\n",
       "       [11, 17, 12, 17, 14, 16, 15, 18, 15, 19],\n",
       "       [12, 10, 11, 10, 18, 19, 11, 17, 10, 12],\n",
       "       [15, 14, 18, 16, 16, 14, 15, 16, 17, 15],\n",
       "       [12, 10, 15, 15, 17, 14, 10, 16, 19, 16],\n",
       "       [19, 12, 14, 13, 10, 14, 17, 16, 19, 18],\n",
       "       [13, 19, 14, 16, 12, 11, 18, 15, 12, 19],\n",
       "       [13, 10, 15, 19, 15, 15, 14, 17, 14, 17],\n",
       "       [14, 11, 11, 15, 19, 14, 10, 16, 11, 15]])"
      ]
     },
     "execution_count": 349,
     "metadata": {},
     "output_type": "execute_result"
    }
   ],
   "source": [
    " np.random.randint(10,20,(10,10)) # [10,10]= its like 2d matrix and its a tuple.\n",
    "                                 # low=10,high=20\n",
    "                                 # It generates values in between 10 to 19."
   ]
  },
  {
   "cell_type": "markdown",
   "id": "91fc8d09-ffba-4169-87ed-cffbfc6746b6",
   "metadata": {},
   "source": [
    "# 5. reshape() = It does not modify the underlying data of the array; it only changes how the data is organized."
   ]
  },
  {
   "cell_type": "code",
   "execution_count": 75,
   "id": "5015ce64-26f3-420f-a333-b3776162b2a8",
   "metadata": {},
   "outputs": [
    {
     "data": {
      "text/plain": [
       "array([ 1,  2,  3,  4,  5,  6,  7,  8,  9, 10, 11, 12])"
      ]
     },
     "execution_count": 75,
     "metadata": {},
     "output_type": "execute_result"
    }
   ],
   "source": [
    "np.arange(1,13)"
   ]
  },
  {
   "cell_type": "code",
   "execution_count": 115,
   "id": "ce870cb9-fb9b-48b2-b10a-a93cbc18afbd",
   "metadata": {},
   "outputs": [
    {
     "data": {
      "text/plain": [
       "array([[ 1,  2,  3,  4],\n",
       "       [ 5,  6,  7,  8],\n",
       "       [ 9, 10, 11, 12]])"
      ]
     },
     "execution_count": 115,
     "metadata": {},
     "output_type": "execute_result"
    }
   ],
   "source": [
    "np.arange(1,13).reshape(3,4)    # 3=rows, 4=columns.logic=> 3*4=12 its a match"
   ]
  },
  {
   "cell_type": "code",
   "execution_count": 117,
   "id": "d67854e2-974c-40c3-a662-ff5210ce9768",
   "metadata": {},
   "outputs": [
    {
     "ename": "ValueError",
     "evalue": "cannot reshape array of size 12 into shape (5,4)",
     "output_type": "error",
     "traceback": [
      "\u001b[1;31m---------------------------------------------------------------------------\u001b[0m",
      "\u001b[1;31mValueError\u001b[0m                                Traceback (most recent call last)",
      "Cell \u001b[1;32mIn[117], line 1\u001b[0m\n\u001b[1;32m----> 1\u001b[0m np\u001b[38;5;241m.\u001b[39marange(\u001b[38;5;241m1\u001b[39m,\u001b[38;5;241m13\u001b[39m)\u001b[38;5;241m.\u001b[39mreshape(\u001b[38;5;241m5\u001b[39m,\u001b[38;5;241m4\u001b[39m)\n",
      "\u001b[1;31mValueError\u001b[0m: cannot reshape array of size 12 into shape (5,4)"
     ]
    }
   ],
   "source": [
    "np.arange(1,13).reshape(5,4) # logic==> 5*4=20. out of range"
   ]
  },
  {
   "cell_type": "code",
   "execution_count": 79,
   "id": "25fe8d76-4a14-4ad0-97d5-a760a8173114",
   "metadata": {},
   "outputs": [
    {
     "data": {
      "text/plain": [
       "array([[ 1],\n",
       "       [ 2],\n",
       "       [ 3],\n",
       "       [ 4],\n",
       "       [ 5],\n",
       "       [ 6],\n",
       "       [ 7],\n",
       "       [ 8],\n",
       "       [ 9],\n",
       "       [10],\n",
       "       [11],\n",
       "       [12]])"
      ]
     },
     "execution_count": 79,
     "metadata": {},
     "output_type": "execute_result"
    }
   ],
   "source": [
    "np.arange(1,13).reshape(12,1) "
   ]
  },
  {
   "cell_type": "code",
   "execution_count": 351,
   "id": "861cd003-bdc1-4e74-afb6-db103bdf3e78",
   "metadata": {},
   "outputs": [
    {
     "data": {
      "text/plain": [
       "array([[15, 29, 17, 19, 21, 27, 21, 22, 21, 10],\n",
       "       [25, 24, 20, 27, 39, 21, 32, 35, 27, 12],\n",
       "       [27, 13, 33, 32, 16, 36, 10, 19, 14, 24],\n",
       "       [35, 21, 16, 32, 19, 16, 23, 37, 20, 29],\n",
       "       [38, 31, 21, 19, 11, 30, 24, 24, 32, 31],\n",
       "       [37, 35, 33, 25, 31, 39, 10, 34, 35, 26],\n",
       "       [16, 35, 16, 23, 27, 30, 20, 17, 33, 39],\n",
       "       [35, 13, 14, 38, 31, 35, 39, 33, 25, 15],\n",
       "       [13, 39, 28, 26, 33, 22, 35, 32, 29, 15],\n",
       "       [24, 16, 31, 16, 24, 22, 20, 11, 22, 38]])"
      ]
     },
     "execution_count": 351,
     "metadata": {},
     "output_type": "execute_result"
    }
   ],
   "source": [
    "np.random.randint(10,40,(10,10))  # It gives random values. Everytime it changes."
   ]
  },
  {
   "cell_type": "code",
   "execution_count": 121,
   "id": "03112804-8a64-406f-9a9b-a0ae81b2d766",
   "metadata": {},
   "outputs": [
    {
     "data": {
      "text/plain": [
       "array([[ 1,  2],\n",
       "       [ 3,  4],\n",
       "       [ 5,  6],\n",
       "       [ 7,  8],\n",
       "       [ 9, 10],\n",
       "       [11, 12]])"
      ]
     },
     "execution_count": 121,
     "metadata": {},
     "output_type": "execute_result"
    }
   ],
   "source": [
    "np.arange(1,13).reshape(6,2)"
   ]
  },
  {
   "cell_type": "code",
   "execution_count": null,
   "id": "e988f97a-3588-4035-a0b7-f7d7a1009096",
   "metadata": {},
   "outputs": [],
   "source": [
    "# Slicing in matrix"
   ]
  },
  {
   "cell_type": "code",
   "execution_count": 123,
   "id": "e81e287f-e1cb-4fc9-a4b3-0e6cb7fb892d",
   "metadata": {},
   "outputs": [
    {
     "data": {
      "text/plain": [
       "array([[14, 15, 10, 10],\n",
       "       [16, 14, 13, 17],\n",
       "       [11, 15, 13, 12],\n",
       "       [16, 18, 18, 12],\n",
       "       [14, 14, 11, 12]])"
      ]
     },
     "execution_count": 123,
     "metadata": {},
     "output_type": "execute_result"
    }
   ],
   "source": [
    "b=np.random.randint(10,20,(5,4))\n",
    "b"
   ]
  },
  {
   "cell_type": "code",
   "execution_count": 125,
   "id": "309950c7-570f-4cb7-9eea-1f9a769a7f3c",
   "metadata": {},
   "outputs": [
    {
     "data": {
      "text/plain": [
       "numpy.ndarray"
      ]
     },
     "execution_count": 125,
     "metadata": {},
     "output_type": "execute_result"
    }
   ],
   "source": [
    "type(b)"
   ]
  },
  {
   "cell_type": "code",
   "execution_count": 127,
   "id": "f8f057a1-9bdd-416d-a17a-bfa5ca286728",
   "metadata": {},
   "outputs": [
    {
     "data": {
      "text/plain": [
       "array([[14, 15, 10, 10],\n",
       "       [16, 14, 13, 17],\n",
       "       [11, 15, 13, 12],\n",
       "       [16, 18, 18, 12],\n",
       "       [14, 14, 11, 12]])"
      ]
     },
     "execution_count": 127,
     "metadata": {},
     "output_type": "execute_result"
    }
   ],
   "source": [
    "b[:] # It prints all the elements"
   ]
  },
  {
   "cell_type": "code",
   "execution_count": 129,
   "id": "8b2e84a9-c0e7-4f48-8c43-ac74a7c466ac",
   "metadata": {},
   "outputs": [
    {
     "data": {
      "text/plain": [
       "array([[16, 14, 13, 17],\n",
       "       [11, 15, 13, 12]])"
      ]
     },
     "execution_count": 129,
     "metadata": {},
     "output_type": "execute_result"
    }
   ],
   "source": [
    "b[1:3] # Here each row is one index value. 3=n-1=>2. so 1 and 2 is output."
   ]
  },
  {
   "cell_type": "code",
   "execution_count": 131,
   "id": "2d540353-e04d-443d-aee4-86e9c945d793",
   "metadata": {},
   "outputs": [
    {
     "data": {
      "text/plain": [
       "array([[16, 18, 18, 12],\n",
       "       [14, 14, 11, 12]])"
      ]
     },
     "execution_count": 131,
     "metadata": {},
     "output_type": "execute_result"
    }
   ],
   "source": [
    " b[3:5] # last two rows as output"
   ]
  },
  {
   "cell_type": "code",
   "execution_count": 133,
   "id": "e6ce026c-8aeb-4e9b-8e8a-73d7c17f625d",
   "metadata": {},
   "outputs": [
    {
     "data": {
      "text/plain": [
       "array([[14, 15, 10, 10],\n",
       "       [16, 14, 13, 17],\n",
       "       [11, 15, 13, 12],\n",
       "       [16, 18, 18, 12],\n",
       "       [14, 14, 11, 12]])"
      ]
     },
     "execution_count": 133,
     "metadata": {},
     "output_type": "execute_result"
    }
   ],
   "source": [
    "b"
   ]
  },
  {
   "cell_type": "code",
   "execution_count": 146,
   "id": "ee1e6911-25bd-424d-9392-d931724ec2fb",
   "metadata": {},
   "outputs": [
    {
     "data": {
      "text/plain": [
       "17"
      ]
     },
     "execution_count": 146,
     "metadata": {},
     "output_type": "execute_result"
    }
   ],
   "source": [
    " b[1,3] # Here rows and columns starts with '0'. that is row=0,1,2,3,4 and columns= 0,1,2,3,\n",
    "       # So row=1 and column(3)=17\n",
    "       # so output=17"
   ]
  },
  {
   "cell_type": "code",
   "execution_count": 148,
   "id": "92a39326-a20a-430c-8a79-57558c76e904",
   "metadata": {},
   "outputs": [
    {
     "data": {
      "text/plain": [
       "14"
      ]
     },
     "execution_count": 148,
     "metadata": {},
     "output_type": "execute_result"
    }
   ],
   "source": [
    "b[4,1] # last row second column digit is '14'"
   ]
  },
  {
   "cell_type": "code",
   "execution_count": 150,
   "id": "d0d05efa-6852-4cd1-a55b-9b164e09a978",
   "metadata": {},
   "outputs": [
    {
     "data": {
      "text/plain": [
       "17"
      ]
     },
     "execution_count": 150,
     "metadata": {},
     "output_type": "execute_result"
    }
   ],
   "source": [
    "b[1,-1] # -1= last element of the first row."
   ]
  },
  {
   "cell_type": "code",
   "execution_count": 152,
   "id": "48d62eb8-8b70-4f93-95ab-13f6d030da41",
   "metadata": {},
   "outputs": [
    {
     "data": {
      "text/plain": [
       "12"
      ]
     },
     "execution_count": 152,
     "metadata": {},
     "output_type": "execute_result"
    }
   ],
   "source": [
    "b[2,-1] # last element of 2nd row."
   ]
  },
  {
   "cell_type": "code",
   "execution_count": 154,
   "id": "7320d004-4646-4c5e-8f14-9e55fc6f9d0c",
   "metadata": {},
   "outputs": [
    {
     "data": {
      "text/plain": [
       "array([[11, 15, 13, 12]])"
      ]
     },
     "execution_count": 154,
     "metadata": {},
     "output_type": "execute_result"
    }
   ],
   "source": [
    "b[2:3] # start=2ndrow and stop=3 = no.of line row\n",
    "       # start = inclusive and stop = exclusive"
   ]
  },
  {
   "cell_type": "code",
   "execution_count": 156,
   "id": "412841ea-5704-400d-be19-a94ddd396123",
   "metadata": {},
   "outputs": [
    {
     "data": {
      "text/plain": [
       "array([[14, 14, 11, 12]])"
      ]
     },
     "execution_count": 156,
     "metadata": {},
     "output_type": "execute_result"
    }
   ],
   "source": [
    "b[4:5] # start= 4th row and stop = 5th row"
   ]
  },
  {
   "cell_type": "code",
   "execution_count": 161,
   "id": "f2b118c9-c3ad-42e7-a31b-2b45a080e604",
   "metadata": {},
   "outputs": [
    {
     "data": {
      "text/plain": [
       "array([15, 14, 15, 18, 14])"
      ]
     },
     "execution_count": 161,
     "metadata": {},
     "output_type": "execute_result"
    }
   ],
   "source": [
    " b[:,1] # this is for column output. : = all and 1= 1st column(index value)\n",
    "       # ',' is very important. otheriwse it will give output for row."
   ]
  },
  {
   "cell_type": "code",
   "execution_count": 163,
   "id": "cbf20ace-339a-46e1-a44b-ceadd1b020ce",
   "metadata": {},
   "outputs": [
    {
     "data": {
      "text/plain": [
       "array([10, 13, 13, 18, 11])"
      ]
     },
     "execution_count": 163,
     "metadata": {},
     "output_type": "execute_result"
    }
   ],
   "source": [
    " b[:, 2] # column syntax: [:,column number]"
   ]
  },
  {
   "cell_type": "code",
   "execution_count": 165,
   "id": "432e8d5e-4dfe-4f32-bb06-cd00d4528d35",
   "metadata": {},
   "outputs": [
    {
     "data": {
      "text/plain": [
       "array([[14, 15, 10, 10],\n",
       "       [16, 14, 13, 17],\n",
       "       [11, 15, 13, 12],\n",
       "       [16, 18, 18, 12],\n",
       "       [14, 14, 11, 12]])"
      ]
     },
     "execution_count": 165,
     "metadata": {},
     "output_type": "execute_result"
    }
   ],
   "source": [
    "b"
   ]
  },
  {
   "cell_type": "code",
   "execution_count": 167,
   "id": "a7bbb0f2-13e6-4da7-a479-39ed3a857045",
   "metadata": {},
   "outputs": [
    {
     "data": {
      "text/plain": [
       "13"
      ]
     },
     "execution_count": 167,
     "metadata": {},
     "output_type": "execute_result"
    }
   ],
   "source": [
    "b[-4,-2] # -4 = last to 4th row and -2 = last to second column."
   ]
  },
  {
   "cell_type": "code",
   "execution_count": 169,
   "id": "19804b65-a039-4108-96a4-a0fae95f1772",
   "metadata": {},
   "outputs": [],
   "source": [
    "import numpy as np"
   ]
  },
  {
   "cell_type": "code",
   "execution_count": 171,
   "id": "9037b990-49b7-462a-849f-9de83142d09d",
   "metadata": {},
   "outputs": [],
   "source": [
    " n=np.arange(1,101) # Like this you can get any set of numbers you want as a matrix."
   ]
  },
  {
   "cell_type": "code",
   "execution_count": 176,
   "id": "6ea22259-77a5-4305-a196-3db2a6188a5e",
   "metadata": {},
   "outputs": [
    {
     "data": {
      "text/plain": [
       "array([[  1,   2,   3,   4,   5,   6,   7,   8,   9,  10,  11,  12,  13,\n",
       "         14,  15,  16,  17,  18,  19,  20],\n",
       "       [ 21,  22,  23,  24,  25,  26,  27,  28,  29,  30,  31,  32,  33,\n",
       "         34,  35,  36,  37,  38,  39,  40],\n",
       "       [ 41,  42,  43,  44,  45,  46,  47,  48,  49,  50,  51,  52,  53,\n",
       "         54,  55,  56,  57,  58,  59,  60],\n",
       "       [ 61,  62,  63,  64,  65,  66,  67,  68,  69,  70,  71,  72,  73,\n",
       "         74,  75,  76,  77,  78,  79,  80],\n",
       "       [ 81,  82,  83,  84,  85,  86,  87,  88,  89,  90,  91,  92,  93,\n",
       "         94,  95,  96,  97,  98,  99, 100]])"
      ]
     },
     "execution_count": 176,
     "metadata": {},
     "output_type": "execute_result"
    }
   ],
   "source": [
    "n.reshape(5,20)"
   ]
  },
  {
   "cell_type": "code",
   "execution_count": 185,
   "id": "f392942a-949a-48ac-a5e9-7a5ff66c98c8",
   "metadata": {},
   "outputs": [
    {
     "data": {
      "text/plain": [
       "array([[18, 11, 11, 14],\n",
       "       [11, 13, 18, 18],\n",
       "       [15, 13, 16, 18],\n",
       "       [13, 14, 14, 14]])"
      ]
     },
     "execution_count": 185,
     "metadata": {},
     "output_type": "execute_result"
    }
   ],
   "source": [
    "b=np.random.randint(10,20,(4,4))\n",
    "b"
   ]
  },
  {
   "cell_type": "code",
   "execution_count": 187,
   "id": "73463db6-289d-46bf-b7e3-8ddeffd88c85",
   "metadata": {},
   "outputs": [
    {
     "data": {
      "text/plain": [
       "14"
      ]
     },
     "execution_count": 187,
     "metadata": {},
     "output_type": "execute_result"
    }
   ],
   "source": [
    " b[-4,-1] # 1st line last element that is -1th element"
   ]
  },
  {
   "cell_type": "code",
   "execution_count": 189,
   "id": "42a0ad42-2a7c-46f9-8cb7-5bea5466d99a",
   "metadata": {},
   "outputs": [
    {
     "data": {
      "text/plain": [
       "array([[18, 11, 11, 14],\n",
       "       [11, 13, 18, 18]])"
      ]
     },
     "execution_count": 189,
     "metadata": {},
     "output_type": "execute_result"
    }
   ],
   "source": [
    "b[-4:2]"
   ]
  },
  {
   "cell_type": "markdown",
   "id": "f7723a99-fc45-4b99-b29d-acfba484589c",
   "metadata": {},
   "source": [
    "# Operations"
   ]
  },
  {
   "cell_type": "code",
   "execution_count": 192,
   "id": "de028816-e841-42de-9ddb-f6900b1b27b9",
   "metadata": {},
   "outputs": [
    {
     "data": {
      "text/plain": [
       "array([12, 19, 16, 16, 15])"
      ]
     },
     "execution_count": 192,
     "metadata": {},
     "output_type": "execute_result"
    }
   ],
   "source": [
    "a=np.random.randint(10,20,5)\n",
    "a"
   ]
  },
  {
   "cell_type": "code",
   "execution_count": 194,
   "id": "314cf1f2-8eda-4066-821c-af0ba1f57174",
   "metadata": {},
   "outputs": [
    {
     "data": {
      "text/plain": [
       "2044052114192"
      ]
     },
     "execution_count": 194,
     "metadata": {},
     "output_type": "execute_result"
    }
   ],
   "source": [
    "id(a) # Address of the memory location."
   ]
  },
  {
   "cell_type": "code",
   "execution_count": 196,
   "id": "b5c57cea-6da5-46ae-8b99-3bd88ffd38e4",
   "metadata": {},
   "outputs": [
    {
     "data": {
      "text/plain": [
       "array([0, 1, 2, 3, 4, 5])"
      ]
     },
     "execution_count": 196,
     "metadata": {},
     "output_type": "execute_result"
    }
   ],
   "source": [
    "my_list=[0,1,2,3,4,5]\n",
    "arr=np.array(my_list)\n",
    "arr"
   ]
  },
  {
   "cell_type": "code",
   "execution_count": 198,
   "id": "674fe69b-fbc6-4565-8a33-9e986d52d0af",
   "metadata": {},
   "outputs": [
    {
     "data": {
      "text/plain": [
       "array([[51, 55, 48, 84, 26, 18,  5,  4, 38, 68],\n",
       "       [ 6, 87, 77, 57, 92, 59, 87, 14,  1, 49],\n",
       "       [94, 33, 15, 18, 53,  8, 60, 59, 93, 88],\n",
       "       [13, 28, 55, 91,  2,  1, 75, 65,  4, 86],\n",
       "       [33,  1, 44,  2, 28, 21, 59, 27, 96,  5],\n",
       "       [77, 75, 34, 87, 80, 57, 86, 33, 81, 66],\n",
       "       [68, 52, 56, 79, 82, 71, 68, 78, 44,  1],\n",
       "       [49, 22, 69, 75, 99,  2, 47, 52, 20, 16],\n",
       "       [12, 43, 26, 86, 58, 41, 97, 92, 77, 54],\n",
       "       [63, 28, 39, 94, 56, 34, 46, 49, 30, 61]])"
      ]
     },
     "execution_count": 198,
     "metadata": {},
     "output_type": "execute_result"
    }
   ],
   "source": [
    "arr2=np.random.randint(1,100,(10,10))\n",
    "arr2"
   ]
  },
  {
   "cell_type": "code",
   "execution_count": 200,
   "id": "c86fcfc9-3fac-45e2-b789-b02d0906d221",
   "metadata": {},
   "outputs": [
    {
     "data": {
      "text/plain": [
       "array([[51, 55, 48, 84, 26, 18,  5,  4, 38, 68],\n",
       "       [ 6, 87, 77, 57, 92, 59, 87, 14,  1, 49],\n",
       "       [94, 33, 15, 18, 53,  8, 60, 59, 93, 88],\n",
       "       [13, 28, 55, 91,  2,  1, 75, 65,  4, 86],\n",
       "       [33,  1, 44,  2, 28, 21, 59, 27, 96,  5],\n",
       "       [77, 75, 34, 87, 80, 57, 86, 33, 81, 66],\n",
       "       [68, 52, 56, 79, 82, 71, 68, 78, 44,  1],\n",
       "       [49, 22, 69, 75, 99,  2, 47, 52, 20, 16],\n",
       "       [12, 43, 26, 86, 58, 41, 97, 92, 77, 54],\n",
       "       [63, 28, 39, 94, 56, 34, 46, 49, 30, 61]])"
      ]
     },
     "execution_count": 200,
     "metadata": {},
     "output_type": "execute_result"
    }
   ],
   "source": [
    "arr2[:]"
   ]
  },
  {
   "cell_type": "code",
   "execution_count": 202,
   "id": "6031cf84-bd2b-4b87-a7d5-5fed4b30041b",
   "metadata": {},
   "outputs": [
    {
     "data": {
      "text/plain": [
       "array([[51, 55, 48, 84, 26, 18,  5,  4, 38, 68],\n",
       "       [ 6, 87, 77, 57, 92, 59, 87, 14,  1, 49],\n",
       "       [94, 33, 15, 18, 53,  8, 60, 59, 93, 88],\n",
       "       [13, 28, 55, 91,  2,  1, 75, 65,  4, 86]])"
      ]
     },
     "execution_count": 202,
     "metadata": {},
     "output_type": "execute_result"
    }
   ],
   "source": [
    "arr2[:4]"
   ]
  },
  {
   "cell_type": "code",
   "execution_count": 204,
   "id": "1d08e458-c688-475b-b0dd-43999b152549",
   "metadata": {},
   "outputs": [
    {
     "data": {
      "text/plain": [
       "array([[51, 55, 48, 84, 26, 18,  5,  4, 38, 68],\n",
       "       [ 6, 87, 77, 57, 92, 59, 87, 14,  1, 49],\n",
       "       [94, 33, 15, 18, 53,  8, 60, 59, 93, 88],\n",
       "       [13, 28, 55, 91,  2,  1, 75, 65,  4, 86],\n",
       "       [33,  1, 44,  2, 28, 21, 59, 27, 96,  5],\n",
       "       [77, 75, 34, 87, 80, 57, 86, 33, 81, 66]])"
      ]
     },
     "execution_count": 204,
     "metadata": {},
     "output_type": "execute_result"
    }
   ],
   "source": [
    "arr2[:-4]"
   ]
  },
  {
   "cell_type": "code",
   "execution_count": 206,
   "id": "e0d77ec0-27ba-4117-9cdb-ff685e87fd6e",
   "metadata": {},
   "outputs": [
    {
     "data": {
      "text/plain": [
       "array([[68, 52, 56, 79, 82, 71, 68, 78, 44,  1],\n",
       "       [49, 22, 69, 75, 99,  2, 47, 52, 20, 16],\n",
       "       [12, 43, 26, 86, 58, 41, 97, 92, 77, 54],\n",
       "       [63, 28, 39, 94, 56, 34, 46, 49, 30, 61]])"
      ]
     },
     "execution_count": 206,
     "metadata": {},
     "output_type": "execute_result"
    }
   ],
   "source": [
    "arr2[-4:]"
   ]
  },
  {
   "cell_type": "code",
   "execution_count": 208,
   "id": "dec42463-812d-4155-8e3b-32079fd7a3dc",
   "metadata": {},
   "outputs": [
    {
     "data": {
      "text/plain": [
       "array([[51, 55, 48, 84, 26, 18,  5,  4, 38, 68],\n",
       "       [ 6, 87, 77, 57, 92, 59, 87, 14,  1, 49],\n",
       "       [94, 33, 15, 18, 53,  8, 60, 59, 93, 88],\n",
       "       [13, 28, 55, 91,  2,  1, 75, 65,  4, 86],\n",
       "       [33,  1, 44,  2, 28, 21, 59, 27, 96,  5]])"
      ]
     },
     "execution_count": 208,
     "metadata": {},
     "output_type": "execute_result"
    }
   ],
   "source": [
    "arr2[0:5] "
   ]
  },
  {
   "cell_type": "code",
   "execution_count": 210,
   "id": "8ba2eb00-9ede-41bf-bc2a-13d91957de3a",
   "metadata": {},
   "outputs": [
    {
     "data": {
      "text/plain": [
       "array([[51, 55, 48, 84, 26, 18,  5,  4, 38, 68],\n",
       "       [ 6, 87, 77, 57, 92, 59, 87, 14,  1, 49],\n",
       "       [94, 33, 15, 18, 53,  8, 60, 59, 93, 88],\n",
       "       [13, 28, 55, 91,  2,  1, 75, 65,  4, 86],\n",
       "       [33,  1, 44,  2, 28, 21, 59, 27, 96,  5],\n",
       "       [77, 75, 34, 87, 80, 57, 86, 33, 81, 66],\n",
       "       [68, 52, 56, 79, 82, 71, 68, 78, 44,  1],\n",
       "       [49, 22, 69, 75, 99,  2, 47, 52, 20, 16],\n",
       "       [12, 43, 26, 86, 58, 41, 97, 92, 77, 54],\n",
       "       [63, 28, 39, 94, 56, 34, 46, 49, 30, 61]])"
      ]
     },
     "execution_count": 210,
     "metadata": {},
     "output_type": "execute_result"
    }
   ],
   "source": [
    "arr2"
   ]
  },
  {
   "cell_type": "code",
   "execution_count": 212,
   "id": "e0d7e116-37a2-4035-a97d-d9e76d05e25b",
   "metadata": {},
   "outputs": [
    {
     "data": {
      "text/plain": [
       "92"
      ]
     },
     "execution_count": 212,
     "metadata": {},
     "output_type": "execute_result"
    }
   ],
   "source": [
    "arr2[1,4] # ',' this will give you the particular element"
   ]
  },
  {
   "cell_type": "code",
   "execution_count": 220,
   "id": "88d362f4-151f-4839-9ec5-cd9e17ac3c60",
   "metadata": {},
   "outputs": [
    {
     "data": {
      "text/plain": [
       "57"
      ]
     },
     "execution_count": 220,
     "metadata": {},
     "output_type": "execute_result"
    }
   ],
   "source": [
    "arr2[-5,5] # left side = top to bottom it starts with '0'\n",
    "           # right side = bottom to top it starts with '-1'"
   ]
  },
  {
   "cell_type": "code",
   "execution_count": 216,
   "id": "2b911b7f-d7d7-42b8-b158-19ade58e2296",
   "metadata": {},
   "outputs": [
    {
     "data": {
      "text/plain": [
       "80"
      ]
     },
     "execution_count": 216,
     "metadata": {},
     "output_type": "execute_result"
    }
   ],
   "source": [
    "arr2[-5,-6]"
   ]
  },
  {
   "cell_type": "code",
   "execution_count": 222,
   "id": "04f2b188-3bab-4b01-b713-a98256310be6",
   "metadata": {},
   "outputs": [
    {
     "data": {
      "text/plain": [
       "array([[51, 55, 48, 84, 26, 18,  5,  4, 38, 68],\n",
       "       [ 6, 87, 77, 57, 92, 59, 87, 14,  1, 49],\n",
       "       [94, 33, 15, 18, 53,  8, 60, 59, 93, 88],\n",
       "       [13, 28, 55, 91,  2,  1, 75, 65,  4, 86],\n",
       "       [33,  1, 44,  2, 28, 21, 59, 27, 96,  5],\n",
       "       [77, 75, 34, 87, 80, 57, 86, 33, 81, 66],\n",
       "       [68, 52, 56, 79, 82, 71, 68, 78, 44,  1],\n",
       "       [49, 22, 69, 75, 99,  2, 47, 52, 20, 16],\n",
       "       [12, 43, 26, 86, 58, 41, 97, 92, 77, 54],\n",
       "       [63, 28, 39, 94, 56, 34, 46, 49, 30, 61]])"
      ]
     },
     "execution_count": 222,
     "metadata": {},
     "output_type": "execute_result"
    }
   ],
   "source": [
    "arr2"
   ]
  },
  {
   "cell_type": "code",
   "execution_count": 224,
   "id": "b2caea5f-36c5-42e6-82f6-e781ecb71cc4",
   "metadata": {},
   "outputs": [
    {
     "data": {
      "text/plain": [
       "array([[63, 28, 39, 94, 56, 34, 46, 49, 30, 61],\n",
       "       [12, 43, 26, 86, 58, 41, 97, 92, 77, 54],\n",
       "       [49, 22, 69, 75, 99,  2, 47, 52, 20, 16],\n",
       "       [68, 52, 56, 79, 82, 71, 68, 78, 44,  1],\n",
       "       [77, 75, 34, 87, 80, 57, 86, 33, 81, 66],\n",
       "       [33,  1, 44,  2, 28, 21, 59, 27, 96,  5],\n",
       "       [13, 28, 55, 91,  2,  1, 75, 65,  4, 86],\n",
       "       [94, 33, 15, 18, 53,  8, 60, 59, 93, 88],\n",
       "       [ 6, 87, 77, 57, 92, 59, 87, 14,  1, 49],\n",
       "       [51, 55, 48, 84, 26, 18,  5,  4, 38, 68]])"
      ]
     },
     "execution_count": 224,
     "metadata": {},
     "output_type": "execute_result"
    }
   ],
   "source": [
    "arr2[::-1] # reverse of a matrix"
   ]
  },
  {
   "cell_type": "code",
   "execution_count": 226,
   "id": "1808bb81-7b18-41b3-9bda-0083b65e5e7e",
   "metadata": {},
   "outputs": [
    {
     "data": {
      "text/plain": [
       "array([[63, 28, 39, 94, 56, 34, 46, 49, 30, 61],\n",
       "       [49, 22, 69, 75, 99,  2, 47, 52, 20, 16],\n",
       "       [77, 75, 34, 87, 80, 57, 86, 33, 81, 66],\n",
       "       [13, 28, 55, 91,  2,  1, 75, 65,  4, 86],\n",
       "       [ 6, 87, 77, 57, 92, 59, 87, 14,  1, 49]])"
      ]
     },
     "execution_count": 226,
     "metadata": {},
     "output_type": "execute_result"
    }
   ],
   "source": [
    "arr2[::-2] # It skips 2 rows and gives output in a reverse"
   ]
  },
  {
   "cell_type": "code",
   "execution_count": 228,
   "id": "1d6d9674-28c3-41fb-bea9-d52b57910c65",
   "metadata": {},
   "outputs": [
    {
     "data": {
      "text/plain": [
       "array([[51, 55, 48, 84, 26, 18,  5,  4, 38, 68],\n",
       "       [ 6, 87, 77, 57, 92, 59, 87, 14,  1, 49],\n",
       "       [94, 33, 15, 18, 53,  8, 60, 59, 93, 88],\n",
       "       [13, 28, 55, 91,  2,  1, 75, 65,  4, 86],\n",
       "       [33,  1, 44,  2, 28, 21, 59, 27, 96,  5],\n",
       "       [77, 75, 34, 87, 80, 57, 86, 33, 81, 66],\n",
       "       [68, 52, 56, 79, 82, 71, 68, 78, 44,  1]])"
      ]
     },
     "execution_count": 228,
     "metadata": {},
     "output_type": "execute_result"
    }
   ],
   "source": [
    " arr2[:-3]"
   ]
  },
  {
   "cell_type": "code",
   "execution_count": 230,
   "id": "7dec46f7-fdb9-45bf-b6f4-85928e1b318d",
   "metadata": {},
   "outputs": [
    {
     "data": {
      "text/plain": [
       "array([0, 1, 2, 3, 4, 5])"
      ]
     },
     "execution_count": 230,
     "metadata": {},
     "output_type": "execute_result"
    }
   ],
   "source": [
    "arr"
   ]
  },
  {
   "cell_type": "code",
   "execution_count": 232,
   "id": "a5df0086-bb53-4fe7-a81f-e70c06dea6f1",
   "metadata": {},
   "outputs": [
    {
     "data": {
      "text/plain": [
       "5"
      ]
     },
     "execution_count": 232,
     "metadata": {},
     "output_type": "execute_result"
    }
   ],
   "source": [
    "arr.max() # It gives maximum value"
   ]
  },
  {
   "cell_type": "code",
   "execution_count": 234,
   "id": "ff834824-1de9-42f2-a7b4-74f3e1139b37",
   "metadata": {},
   "outputs": [
    {
     "data": {
      "text/plain": [
       "0"
      ]
     },
     "execution_count": 234,
     "metadata": {},
     "output_type": "execute_result"
    }
   ],
   "source": [
    "arr.min() # It gives maximum value"
   ]
  },
  {
   "cell_type": "code",
   "execution_count": 236,
   "id": "d6ae4e6a-57bc-4bbf-856e-efc7016d01b0",
   "metadata": {},
   "outputs": [
    {
     "data": {
      "text/plain": [
       "2.5"
      ]
     },
     "execution_count": 236,
     "metadata": {},
     "output_type": "execute_result"
    }
   ],
   "source": [
    "arr. mean() # It gives mean value i.e., 2.5"
   ]
  },
  {
   "cell_type": "code",
   "execution_count": 238,
   "id": "6790e668-c17e-4209-9332-b2cf5e291947",
   "metadata": {},
   "outputs": [
    {
     "ename": "AttributeError",
     "evalue": "'numpy.ndarray' object has no attribute 'median'",
     "output_type": "error",
     "traceback": [
      "\u001b[1;31m---------------------------------------------------------------------------\u001b[0m",
      "\u001b[1;31mAttributeError\u001b[0m                            Traceback (most recent call last)",
      "Cell \u001b[1;32mIn[238], line 1\u001b[0m\n\u001b[1;32m----> 1\u001b[0m arr\u001b[38;5;241m.\u001b[39mmedian()\n",
      "\u001b[1;31mAttributeError\u001b[0m: 'numpy.ndarray' object has no attribute 'median'"
     ]
    }
   ],
   "source": [
    "arr.median() # It is because median in not in built function. \n",
    "             # Use \"from numpy import *\" where * = import all numpy libraries."
   ]
  },
  {
   "cell_type": "code",
   "execution_count": 240,
   "id": "32d12d3c-839c-439d-bf26-bddb4f510a84",
   "metadata": {},
   "outputs": [],
   "source": [
    "from numpy import *"
   ]
  },
  {
   "cell_type": "code",
   "execution_count": 242,
   "id": "3329b573-373b-4782-adfe-9a3c4d359ca4",
   "metadata": {},
   "outputs": [
    {
     "data": {
      "text/plain": [
       "2.5"
      ]
     },
     "execution_count": 242,
     "metadata": {},
     "output_type": "execute_result"
    }
   ],
   "source": [
    "median(arr)"
   ]
  },
  {
   "cell_type": "code",
   "execution_count": 244,
   "id": "ae48bda2-a628-4baa-b3e0-e9b26c21ce3c",
   "metadata": {},
   "outputs": [
    {
     "data": {
      "text/plain": [
       "55.0"
      ]
     },
     "execution_count": 244,
     "metadata": {},
     "output_type": "execute_result"
    }
   ],
   "source": [
    "arr3=array([10,20,30,40,50,60,70,80,90,100]) # median() works now\n",
    "median(arr3)"
   ]
  },
  {
   "cell_type": "code",
   "execution_count": 246,
   "id": "5d64e9a0-dffa-4766-b84b-1006d2542725",
   "metadata": {},
   "outputs": [
    {
     "data": {
      "text/plain": [
       "array([[ 10,  20],\n",
       "       [ 30,  40],\n",
       "       [ 50,  60],\n",
       "       [ 70,  80],\n",
       "       [ 90, 100]])"
      ]
     },
     "execution_count": 246,
     "metadata": {},
     "output_type": "execute_result"
    }
   ],
   "source": [
    "arr3.reshape(5,2)"
   ]
  },
  {
   "cell_type": "code",
   "execution_count": 248,
   "id": "aeeb4873-e6e4-4ecd-9f9f-703ae60912b1",
   "metadata": {},
   "outputs": [
    {
     "data": {
      "text/plain": [
       "array([0, 1, 2, 3, 4, 5])"
      ]
     },
     "execution_count": 248,
     "metadata": {},
     "output_type": "execute_result"
    }
   ],
   "source": [
    "arr"
   ]
  },
  {
   "cell_type": "code",
   "execution_count": 250,
   "id": "e0dd17df-c11c-4529-95b9-df7b7acb0a4d",
   "metadata": {},
   "outputs": [
    {
     "data": {
      "text/plain": [
       "array([[0, 1, 2],\n",
       "       [3, 4, 5]])"
      ]
     },
     "execution_count": 250,
     "metadata": {},
     "output_type": "execute_result"
    }
   ],
   "source": [
    "arr.reshape(2,3,order='C') # order='C' is used, the elements are taken from the original array in their original order (1, 2, 3, 4, 5, 6)\n",
    "                           # And placed into the 2x3 array row by row.\n",
    "                          # In simple words, orderwise output. "
   ]
  },
  {
   "cell_type": "code",
   "execution_count": 252,
   "id": "0e15baaf-7a29-474d-9f03-a2ee247297f2",
   "metadata": {},
   "outputs": [
    {
     "data": {
      "text/plain": [
       "array([[0, 2, 4],\n",
       "       [1, 3, 5]])"
      ]
     },
     "execution_count": 252,
     "metadata": {},
     "output_type": "execute_result"
    }
   ],
   "source": [
    "arr.reshape(2,3,order='F') #The original array arr is [0, 1, 2, 3, 4, 5].\n",
    "                           # With order='F', the reshape() function fills the new 2x3 array column by column:\n",
    "                            # The first column is filled with the first two elements: 0 and 1.\n",
    "                            # The second column is filled with the next two elements: 2 and 3.\n",
    "                            # The third column is filled with the last two elements: 4 and 5.\n",
    "                            # output=[0,2,4] & [1,3,5]\n"
   ]
  },
  {
   "cell_type": "code",
   "execution_count": 254,
   "id": "e66ca78f-fc19-40bb-b6b9-2529bed50296",
   "metadata": {},
   "outputs": [
    {
     "data": {
      "text/plain": [
       "array([[0, 1, 2],\n",
       "       [3, 4, 5]])"
      ]
     },
     "execution_count": 254,
     "metadata": {},
     "output_type": "execute_result"
    }
   ],
   "source": [
    " arr.reshape(2,3,order='A') # Its almost same as \"Order C\""
   ]
  },
  {
   "cell_type": "markdown",
   "id": "01f0e008-4c1f-4cdc-99af-e451aef40d93",
   "metadata": {},
   "source": [
    "# Indexing"
   ]
  },
  {
   "cell_type": "code",
   "execution_count": 260,
   "id": "09f12e6f-8ecb-4ad3-93a5-43f9f3d2193c",
   "metadata": {},
   "outputs": [
    {
     "data": {
      "text/plain": [
       "array([[ 0,  1,  2,  3,  4,  5,  6,  7,  8,  9],\n",
       "       [10, 11, 12, 13, 14, 15, 16, 17, 18, 19],\n",
       "       [20, 21, 22, 23, 24, 25, 26, 27, 28, 29],\n",
       "       [30, 31, 32, 33, 34, 35, 36, 37, 38, 39],\n",
       "       [40, 41, 42, 43, 44, 45, 46, 47, 48, 49],\n",
       "       [50, 51, 52, 53, 54, 55, 56, 57, 58, 59],\n",
       "       [60, 61, 62, 63, 64, 65, 66, 67, 68, 69],\n",
       "       [70, 71, 72, 73, 74, 75, 76, 77, 78, 79],\n",
       "       [80, 81, 82, 83, 84, 85, 86, 87, 88, 89],\n",
       "       [90, 91, 92, 93, 94, 95, 96, 97, 98, 99]])"
      ]
     },
     "execution_count": 260,
     "metadata": {},
     "output_type": "execute_result"
    }
   ],
   "source": [
    "mat=np.arange(0,100).reshape(10,10)\n",
    "mat"
   ]
  },
  {
   "cell_type": "code",
   "execution_count": 262,
   "id": "bd863c9c-7142-47be-9552-046a19b4e533",
   "metadata": {},
   "outputs": [],
   "source": [
    "row=4\n",
    "col=5"
   ]
  },
  {
   "cell_type": "code",
   "execution_count": 264,
   "id": "0fd19ad1-95e7-4559-b734-e242ddc27a66",
   "metadata": {},
   "outputs": [
    {
     "data": {
      "text/plain": [
       "4"
      ]
     },
     "execution_count": 264,
     "metadata": {},
     "output_type": "execute_result"
    }
   ],
   "source": [
    "row"
   ]
  },
  {
   "cell_type": "code",
   "execution_count": 266,
   "id": "b6fa82d8-05f3-4f70-a46a-361850e1f303",
   "metadata": {},
   "outputs": [
    {
     "data": {
      "text/plain": [
       "5"
      ]
     },
     "execution_count": 266,
     "metadata": {},
     "output_type": "execute_result"
    }
   ],
   "source": [
    "col"
   ]
  },
  {
   "cell_type": "code",
   "execution_count": 268,
   "id": "f8abcd64-8044-4d36-afa4-1eb02dac8f3e",
   "metadata": {},
   "outputs": [
    {
     "data": {
      "text/plain": [
       "45"
      ]
     },
     "execution_count": 268,
     "metadata": {},
     "output_type": "execute_result"
    }
   ],
   "source": [
    "mat[row,col]"
   ]
  },
  {
   "cell_type": "code",
   "execution_count": 270,
   "id": "050ffc63-0e27-4275-bd90-f1cae262fb34",
   "metadata": {},
   "outputs": [
    {
     "data": {
      "text/plain": [
       "45"
      ]
     },
     "execution_count": 270,
     "metadata": {},
     "output_type": "execute_result"
    }
   ],
   "source": [
    " mat[4,5] # 4=row and 5=column. the integer is \"45\""
   ]
  },
  {
   "cell_type": "code",
   "execution_count": 272,
   "id": "9b3f7f5c-affe-4f9a-b80c-ada3ecf3e9f2",
   "metadata": {},
   "outputs": [
    {
     "data": {
      "text/plain": [
       "array([60, 61, 62, 63, 64, 65, 66, 67, 68, 69])"
      ]
     },
     "execution_count": 272,
     "metadata": {},
     "output_type": "execute_result"
    }
   ],
   "source": [
    " mat[6] # row as output"
   ]
  },
  {
   "cell_type": "code",
   "execution_count": 274,
   "id": "8c38238c-eeeb-4272-ad2f-f84c99446e33",
   "metadata": {},
   "outputs": [
    {
     "data": {
      "text/plain": [
       "array([ 6, 16, 26, 36, 46, 56, 66, 76, 86, 96])"
      ]
     },
     "execution_count": 274,
     "metadata": {},
     "output_type": "execute_result"
    }
   ],
   "source": [
    "mat[:,6] # Column as output"
   ]
  },
  {
   "cell_type": "code",
   "execution_count": 276,
   "id": "08e0b7d8-d680-45a1-b3f1-02af725dedc5",
   "metadata": {},
   "outputs": [
    {
     "data": {
      "text/plain": [
       "array([40, 41, 42, 43, 44, 45, 46, 47, 48, 49])"
      ]
     },
     "execution_count": 276,
     "metadata": {},
     "output_type": "execute_result"
    }
   ],
   "source": [
    "mat[4,:]"
   ]
  },
  {
   "cell_type": "code",
   "execution_count": 278,
   "id": "2b4b44ef-819e-4d25-ac72-7304c6f5c561",
   "metadata": {},
   "outputs": [
    {
     "data": {
      "text/plain": [
       "array([ 9, 19, 29, 39, 49, 59, 69, 79, 89, 99])"
      ]
     },
     "execution_count": 278,
     "metadata": {},
     "output_type": "execute_result"
    }
   ],
   "source": [
    "mat[:,-1]"
   ]
  },
  {
   "cell_type": "code",
   "execution_count": 280,
   "id": "9d45df3e-0b11-4a54-b071-37a87413edfd",
   "metadata": {},
   "outputs": [
    {
     "data": {
      "text/plain": [
       "array([[ 0,  1,  2,  3,  4,  5,  6,  7,  8,  9],\n",
       "       [10, 11, 12, 13, 14, 15, 16, 17, 18, 19],\n",
       "       [20, 21, 22, 23, 24, 25, 26, 27, 28, 29],\n",
       "       [30, 31, 32, 33, 34, 35, 36, 37, 38, 39],\n",
       "       [40, 41, 42, 43, 44, 45, 46, 47, 48, 49],\n",
       "       [50, 51, 52, 53, 54, 55, 56, 57, 58, 59],\n",
       "       [60, 61, 62, 63, 64, 65, 66, 67, 68, 69],\n",
       "       [70, 71, 72, 73, 74, 75, 76, 77, 78, 79],\n",
       "       [80, 81, 82, 83, 84, 85, 86, 87, 88, 89]])"
      ]
     },
     "execution_count": 280,
     "metadata": {},
     "output_type": "execute_result"
    }
   ],
   "source": [
    "mat[:-1] # difference between the \",\" and \":\""
   ]
  },
  {
   "cell_type": "code",
   "execution_count": 282,
   "id": "5d071b92-f2ba-424d-9a1b-e5637a1384c9",
   "metadata": {},
   "outputs": [
    {
     "data": {
      "text/plain": [
       "array([[10, 11, 12, 13, 14, 15, 16, 17, 18, 19],\n",
       "       [20, 21, 22, 23, 24, 25, 26, 27, 28, 29],\n",
       "       [30, 31, 32, 33, 34, 35, 36, 37, 38, 39]])"
      ]
     },
     "execution_count": 282,
     "metadata": {},
     "output_type": "execute_result"
    }
   ],
   "source": [
    "mat[1:4]"
   ]
  },
  {
   "cell_type": "code",
   "execution_count": 284,
   "id": "676004a6-f805-4df5-8e06-5f91f9f5eb05",
   "metadata": {},
   "outputs": [
    {
     "data": {
      "text/plain": [
       "array([[ 0,  1,  2,  3,  4,  5,  6,  7,  8,  9],\n",
       "       [30, 31, 32, 33, 34, 35, 36, 37, 38, 39],\n",
       "       [60, 61, 62, 63, 64, 65, 66, 67, 68, 69],\n",
       "       [90, 91, 92, 93, 94, 95, 96, 97, 98, 99]])"
      ]
     },
     "execution_count": 284,
     "metadata": {},
     "output_type": "execute_result"
    }
   ],
   "source": [
    "mat[0:10:3]"
   ]
  },
  {
   "cell_type": "code",
   "execution_count": 286,
   "id": "1a3fd7f1-c36f-4aa3-bd76-6e0cf57b1679",
   "metadata": {},
   "outputs": [
    {
     "data": {
      "text/plain": [
       "array([[ 0,  1,  2,  3,  4,  5,  6,  7,  8,  9],\n",
       "       [10, 11, 12, 13, 14, 15, 16, 17, 18, 19],\n",
       "       [20, 21, 22, 23, 24, 25, 26, 27, 28, 29],\n",
       "       [30, 31, 32, 33, 34, 35, 36, 37, 38, 39],\n",
       "       [40, 41, 42, 43, 44, 45, 46, 47, 48, 49],\n",
       "       [50, 51, 52, 53, 54, 55, 56, 57, 58, 59],\n",
       "       [60, 61, 62, 63, 64, 65, 66, 67, 68, 69],\n",
       "       [70, 71, 72, 73, 74, 75, 76, 77, 78, 79],\n",
       "       [80, 81, 82, 83, 84, 85, 86, 87, 88, 89],\n",
       "       [90, 91, 92, 93, 94, 95, 96, 97, 98, 99]])"
      ]
     },
     "execution_count": 286,
     "metadata": {},
     "output_type": "execute_result"
    }
   ],
   "source": [
    "mat"
   ]
  },
  {
   "cell_type": "code",
   "execution_count": 288,
   "id": "694522f5-1e10-4a8c-ada3-7caabfb61656",
   "metadata": {},
   "outputs": [
    {
     "data": {
      "text/plain": [
       "array([[22, 23],\n",
       "       [32, 33],\n",
       "       [42, 43],\n",
       "       [52, 53]])"
      ]
     },
     "execution_count": 288,
     "metadata": {},
     "output_type": "execute_result"
    }
   ],
   "source": [
    " mat[2:6,2:4]    # 2:6: This part specifies the rows to select.\n",
    "                # row:\n",
    "                # 2 is the starting row index (inclusive).\n",
    "                # 6 is the ending row index (exclusive).\n",
    "                # Therefore, this selects rows with indices 2, 3, 4, and 5.\n",
    "                 # column:\n",
    "                # 2:4: This part specifies the columns to select.\n",
    "                # 2 is the starting column index (inclusive).\n",
    "                # 4 is the ending column index (exclusive).\n",
    "                # Therefore, this selects columns with indices 2 and 3.\n"
   ]
  },
  {
   "cell_type": "code",
   "execution_count": 290,
   "id": "cd182843-7c5d-4762-93c0-d97bedc90a5e",
   "metadata": {},
   "outputs": [
    {
     "data": {
      "text/plain": [
       "array([[44, 45, 46, 47],\n",
       "       [54, 55, 56, 57]])"
      ]
     },
     "execution_count": 290,
     "metadata": {},
     "output_type": "execute_result"
    }
   ],
   "source": [
    "mat[4:6,4:8]"
   ]
  },
  {
   "cell_type": "code",
   "execution_count": 292,
   "id": "4135d25c-7202-4c48-b3c6-e5157be4606f",
   "metadata": {},
   "outputs": [
    {
     "data": {
      "text/plain": [
       "array([[65, 66, 67],\n",
       "       [75, 76, 77],\n",
       "       [85, 86, 87]])"
      ]
     },
     "execution_count": 292,
     "metadata": {},
     "output_type": "execute_result"
    }
   ],
   "source": [
    "mat[6:9,5:8] # row=6:9, that is i want the values from 6th to 8th row. 9-1=8\n",
    "             # column=5:8 that is i want values from 5th to 7th column. 8-1=7"
   ]
  },
  {
   "cell_type": "markdown",
   "id": "d1b34e54-9ee5-473f-a611-7bcd74e79469",
   "metadata": {},
   "source": [
    "# Masking"
   ]
  },
  {
   "cell_type": "code",
   "execution_count": 295,
   "id": "633c3aec-7ca2-4412-8048-cb7e5ebdd2fd",
   "metadata": {},
   "outputs": [
    {
     "data": {
      "text/plain": [
       "array([[ 0,  1,  2,  3,  4,  5,  6,  7,  8,  9],\n",
       "       [10, 11, 12, 13, 14, 15, 16, 17, 18, 19],\n",
       "       [20, 21, 22, 23, 24, 25, 26, 27, 28, 29],\n",
       "       [30, 31, 32, 33, 34, 35, 36, 37, 38, 39],\n",
       "       [40, 41, 42, 43, 44, 45, 46, 47, 48, 49],\n",
       "       [50, 51, 52, 53, 54, 55, 56, 57, 58, 59],\n",
       "       [60, 61, 62, 63, 64, 65, 66, 67, 68, 69],\n",
       "       [70, 71, 72, 73, 74, 75, 76, 77, 78, 79],\n",
       "       [80, 81, 82, 83, 84, 85, 86, 87, 88, 89],\n",
       "       [90, 91, 92, 93, 94, 95, 96, 97, 98, 99]])"
      ]
     },
     "execution_count": 295,
     "metadata": {},
     "output_type": "execute_result"
    }
   ],
   "source": [
    "mat"
   ]
  },
  {
   "cell_type": "code",
   "execution_count": 297,
   "id": "6ad40137-895a-492d-ba4f-bc59749f17ee",
   "metadata": {},
   "outputs": [
    {
     "data": {
      "text/plain": [
       "2044052123696"
      ]
     },
     "execution_count": 297,
     "metadata": {},
     "output_type": "execute_result"
    }
   ],
   "source": [
    "id(mat)"
   ]
  },
  {
   "cell_type": "code",
   "execution_count": 299,
   "id": "acbb284c-c15b-4753-ab06-e664225d8d0e",
   "metadata": {},
   "outputs": [
    {
     "data": {
      "text/plain": [
       "array([[ True,  True,  True,  True,  True,  True,  True,  True,  True,\n",
       "         True],\n",
       "       [ True,  True,  True,  True,  True,  True,  True,  True,  True,\n",
       "         True],\n",
       "       [ True,  True,  True,  True,  True,  True,  True,  True,  True,\n",
       "         True],\n",
       "       [ True,  True,  True,  True,  True,  True,  True,  True,  True,\n",
       "         True],\n",
       "       [ True,  True,  True,  True,  True,  True,  True,  True,  True,\n",
       "         True],\n",
       "       [False, False, False, False, False, False, False, False, False,\n",
       "        False],\n",
       "       [False, False, False, False, False, False, False, False, False,\n",
       "        False],\n",
       "       [False, False, False, False, False, False, False, False, False,\n",
       "        False],\n",
       "       [False, False, False, False, False, False, False, False, False,\n",
       "        False],\n",
       "       [False, False, False, False, False, False, False, False, False,\n",
       "        False]])"
      ]
     },
     "execution_count": 299,
     "metadata": {},
     "output_type": "execute_result"
    }
   ],
   "source": [
    " mat<50 # It gives boolean expression as \"True\" upto 49 numbers."
   ]
  },
  {
   "cell_type": "code",
   "execution_count": 301,
   "id": "a53ae2f4-e6d3-4dea-bcd2-72884676b7a0",
   "metadata": {},
   "outputs": [
    {
     "data": {
      "text/plain": [
       "array([[ True,  True,  True,  True,  True,  True,  True,  True,  True,\n",
       "         True],\n",
       "       [ True,  True,  True,  True,  True,  True,  True,  True,  True,\n",
       "         True],\n",
       "       [ True,  True,  True,  True,  True,  True,  True,  True,  True,\n",
       "         True],\n",
       "       [ True,  True,  True,  True,  True,  True,  True,  True,  True,\n",
       "         True],\n",
       "       [ True,  True,  True,  True,  True,  True,  True,  True,  True,\n",
       "         True],\n",
       "       [ True, False, False, False, False, False, False, False, False,\n",
       "        False],\n",
       "       [False, False, False, False, False, False, False, False, False,\n",
       "        False],\n",
       "       [False, False, False, False, False, False, False, False, False,\n",
       "        False],\n",
       "       [False, False, False, False, False, False, False, False, False,\n",
       "        False],\n",
       "       [False, False, False, False, False, False, False, False, False,\n",
       "        False]])"
      ]
     },
     "execution_count": 301,
     "metadata": {},
     "output_type": "execute_result"
    }
   ],
   "source": [
    "mat<=50 # Now 50 also included."
   ]
  },
  {
   "cell_type": "code",
   "execution_count": 303,
   "id": "9d0cc3c3-593a-4d01-8699-d4bbb0d5b91d",
   "metadata": {},
   "outputs": [
    {
     "data": {
      "text/plain": [
       "array([ 0,  1,  2,  3,  4,  5,  6,  7,  8,  9, 10, 11, 12, 13, 14, 15, 16,\n",
       "       17, 18, 19, 20, 21, 22, 23, 24, 25, 26, 27, 28, 29, 30, 31, 32, 33,\n",
       "       34, 35, 36, 37, 38, 39, 40, 41, 42, 43, 44, 45, 46, 47, 48, 49])"
      ]
     },
     "execution_count": 303,
     "metadata": {},
     "output_type": "execute_result"
    }
   ],
   "source": [
    "mat[mat<50] # To get integer values. we need to use extra \"mat\""
   ]
  },
  {
   "cell_type": "code",
   "execution_count": 305,
   "id": "3f61ad80-197f-4864-b3af-cd409b124c9e",
   "metadata": {},
   "outputs": [
    {
     "data": {
      "text/plain": [
       "array([ 0,  1,  2,  3,  4,  5,  6,  7,  8,  9, 10, 11, 12, 13, 14, 15, 16,\n",
       "       17, 18, 19, 20, 21, 22, 23, 24, 25, 26, 27, 28, 29, 30, 31, 32, 33,\n",
       "       34, 35, 36, 37, 38, 39, 40, 41, 42, 43, 44, 45, 46, 47, 48, 49, 50])"
      ]
     },
     "execution_count": 305,
     "metadata": {},
     "output_type": "execute_result"
    }
   ],
   "source": [
    "mat[mat<=50]"
   ]
  },
  {
   "cell_type": "code",
   "execution_count": 307,
   "id": "088712f5-15e8-4b1e-b35c-9e6c97bf687b",
   "metadata": {},
   "outputs": [
    {
     "data": {
      "text/plain": [
       "array([50])"
      ]
     },
     "execution_count": 307,
     "metadata": {},
     "output_type": "execute_result"
    }
   ],
   "source": [
    "mat[mat==50]"
   ]
  },
  {
   "cell_type": "code",
   "execution_count": 309,
   "id": "c3ba604e-dcf9-4bec-93d7-cc8adfa4fa97",
   "metadata": {},
   "outputs": [
    {
     "data": {
      "text/plain": [
       "array([51, 52, 53, 54, 55, 56, 57, 58, 59, 60, 61, 62, 63, 64, 65, 66, 67,\n",
       "       68, 69, 70, 71, 72, 73, 74, 75, 76, 77, 78, 79, 80, 81, 82, 83, 84,\n",
       "       85, 86, 87, 88, 89, 90, 91, 92, 93, 94, 95, 96, 97, 98, 99])"
      ]
     },
     "execution_count": 309,
     "metadata": {},
     "output_type": "execute_result"
    }
   ],
   "source": [
    "mat[mat>50]"
   ]
  },
  {
   "cell_type": "code",
   "execution_count": 311,
   "id": "3e9c8cb0-cd91-40ff-8a9c-305bda524461",
   "metadata": {},
   "outputs": [
    {
     "data": {
      "text/plain": [
       "array([50, 51, 52, 53, 54, 55, 56, 57, 58, 59, 60, 61, 62, 63, 64, 65, 66,\n",
       "       67, 68, 69, 70, 71, 72, 73, 74, 75, 76, 77, 78, 79, 80, 81, 82, 83,\n",
       "       84, 85, 86, 87, 88, 89, 90, 91, 92, 93, 94, 95, 96, 97, 98, 99])"
      ]
     },
     "execution_count": 311,
     "metadata": {},
     "output_type": "execute_result"
    }
   ],
   "source": [
    "mat[mat>=50]"
   ]
  },
  {
   "cell_type": "code",
   "execution_count": 313,
   "id": "52362d83-219e-4054-8832-4741929ce553",
   "metadata": {},
   "outputs": [
    {
     "data": {
      "text/plain": [
       "array([ 0,  1,  2,  3,  4,  5,  6,  7,  8,  9, 10, 11, 12, 13, 14, 15, 16,\n",
       "       17, 18, 19, 20, 21, 22, 23, 24, 25, 26, 27, 28, 29, 30, 31, 32, 33,\n",
       "       34, 35, 36, 37, 38, 39, 40, 41, 42, 43, 44, 45, 46, 47, 48, 49, 51,\n",
       "       52, 53, 54, 55, 56, 57, 58, 59, 60, 61, 62, 63, 64, 65, 66, 67, 68,\n",
       "       69, 70, 71, 72, 73, 74, 75, 76, 77, 78, 79, 80, 81, 82, 83, 84, 85,\n",
       "       86, 87, 88, 89, 90, 91, 92, 93, 94, 95, 96, 97, 98, 99])"
      ]
     },
     "execution_count": 313,
     "metadata": {},
     "output_type": "execute_result"
    }
   ],
   "source": [
    "mat[mat!=50]"
   ]
  },
  {
   "cell_type": "code",
   "execution_count": null,
   "id": "fe5ec2ab-bb2c-4c55-b26a-5d1e03b8f9b5",
   "metadata": {},
   "outputs": [],
   "source": []
  },
  {
   "cell_type": "code",
   "execution_count": null,
   "id": "332e42de-dfe8-451b-ab37-981bf8d208f7",
   "metadata": {},
   "outputs": [],
   "source": []
  },
  {
   "cell_type": "code",
   "execution_count": null,
   "id": "979c40a4-c07a-41aa-a249-f387df5d38e4",
   "metadata": {},
   "outputs": [],
   "source": []
  }
 ],
 "metadata": {
  "kernelspec": {
   "display_name": "Python [conda env:base] *",
   "language": "python",
   "name": "conda-base-py"
  },
  "language_info": {
   "codemirror_mode": {
    "name": "ipython",
    "version": 3
   },
   "file_extension": ".py",
   "mimetype": "text/x-python",
   "name": "python",
   "nbconvert_exporter": "python",
   "pygments_lexer": "ipython3",
   "version": "3.12.7"
  }
 },
 "nbformat": 4,
 "nbformat_minor": 5
}
